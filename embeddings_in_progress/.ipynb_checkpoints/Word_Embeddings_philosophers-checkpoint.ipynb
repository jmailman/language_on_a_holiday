{
 "cells": [
  {
   "cell_type": "markdown",
   "metadata": {},
   "source": [
    "In this notebook, we will get an overview of how to generate word vectors using the various word embedding methods discussed in the lecture\n",
    "\n",
    "### Objectives:\n",
    "- Implement Count Vectors with sklearn\n",
    "- Implement TF-IDF Vectors with sklearn and gensim\n",
    "- Train and save word2vec model with gensim\n",
    "- Load Google's pretrained word2vec model\n",
    "- Load Stanford's pretrained GloVe model"
   ]
  },
  {
   "cell_type": "code",
   "execution_count": 1,
   "metadata": {},
   "outputs": [],
   "source": [
    "from sklearn.feature_extraction.text import CountVectorizer, TfidfVectorizer\n",
    "from sklearn.datasets import fetch_20newsgroups"
   ]
  },
  {
   "cell_type": "code",
   "execution_count": 2,
   "metadata": {},
   "outputs": [],
   "source": [
    "categories = ['alt.atheism', 'soc.religion.christian','comp.graphics', 'sci.med']\n",
    "twenty_train = fetch_20newsgroups(subset='train', categories=categories, shuffle=True, random_state=42)\n",
    "\n",
    "corpus = twenty_train.data[0:50]"
   ]
  },
  {
   "cell_type": "code",
   "execution_count": 3,
   "metadata": {},
   "outputs": [
    {
     "name": "stdout",
     "output_type": "stream",
     "text": [
      "From: sd345@city.ac.uk (Michael Collier)\n",
      "Subject: Converting images to HP LaserJet III?\n",
      "Nntp-Posting-Host: hampton\n",
      "Organization: The City University\n",
      "Lines: 14\n",
      "\n",
      "Does anyone know of a good way (standard PC application/PD utility) to\n",
      "convert tif/img/tga files into LaserJet III format.  We would also like to\n",
      "do the same, converting to HPGL (HP plotter) files.\n",
      "\n",
      "Please email any response.\n",
      "\n",
      "Is this the correct group?\n",
      "\n",
      "Thanks in advance.  Michael.\n",
      "-- \n",
      "Michael Collier (Programmer)                 The Computer Unit,\n",
      "Email: M.P.Collier@uk.ac.city                The City University,\n",
      "Tel: 071 477-8000 x3769                      London,\n",
      "Fax: 071 477-8565                            EC1V 0HB.\n",
      "\n"
     ]
    }
   ],
   "source": [
    "print(f\"{corpus[0]}\")"
   ]
  },
  {
   "cell_type": "code",
   "execution_count": 4,
   "metadata": {},
   "outputs": [
    {
     "name": "stdout",
     "output_type": "stream",
     "text": [
      "Dimensions of Document-term matrix: (50, 3075)\n"
     ]
    }
   ],
   "source": [
    "vectorizer = CountVectorizer()\n",
    "X = vectorizer.fit_transform(corpus)\n",
    "\n",
    "print(f\"Dimensions of Document-term matrix: {X.toarray().shape}\")"
   ]
  },
  {
   "cell_type": "markdown",
   "metadata": {},
   "source": [
    "From the result above, we can see that the second dimension gives us the size of our vocabulary.\n",
    "\n",
    "But why restrict ourselves to single words? We can pass an additional argument to the CountVectorizer() object to add n-grams to our vocabulary.\n",
    "\n",
    "What is an n-gram?  It's just a collection of n consecutive words. For example:\n",
    "\"New\", \"York\", \"City\", \"subway\" are all unigrams\n",
    "\"New York\", \"York City\", \"City subway\" are bigrams\n",
    "\"New York City\", \"York City subway\" are trigrams\n",
    "\"New York City subway\" is a 4-gram\n",
    "\n",
    "We can specify to include n-grams with the ngram_range argument.  This takes a tuple which specifies the range of n-grams that we should include (inclusively)."
   ]
  },
  {
   "cell_type": "code",
   "execution_count": 5,
   "metadata": {},
   "outputs": [
    {
     "name": "stdout",
     "output_type": "stream",
     "text": [
      "Dimensions of Document-term matrix: (50, 23397)\n"
     ]
    }
   ],
   "source": [
    "# Include unigrams, bigrams, and trigrams\n",
    "\n",
    "vectorizer = CountVectorizer(ngram_range=(1,3))\n",
    "X = vectorizer.fit_transform(corpus)\n",
    "\n",
    "print(f\"Dimensions of Document-term matrix: {X.toarray().shape}\")"
   ]
  },
  {
   "cell_type": "markdown",
   "metadata": {},
   "source": [
    "A common preprocessing step in many NLP applications is stop-word removal.\n",
    "Common words like \"a\", \"the\", \"and\" often add a lot of noise, and don't typiccally contribute much to the task we are trying to solve.\n",
    "\n",
    "CountVectorizer also comes equipped with a way of dealing with common English stop words!"
   ]
  },
  {
   "cell_type": "code",
   "execution_count": 6,
   "metadata": {},
   "outputs": [
    {
     "name": "stdout",
     "output_type": "stream",
     "text": [
      "Dimensions of Document-term matrix: (50, 14300)\n"
     ]
    }
   ],
   "source": [
    "vectorizer = CountVectorizer(ngram_range=(1,3), stop_words='english')\n",
    "X = vectorizer.fit_transform(corpus)\n",
    "\n",
    "print(f\"Dimensions of Document-term matrix: {X.toarray().shape}\")"
   ]
  },
  {
   "cell_type": "markdown",
   "metadata": {},
   "source": [
    "# TF-IDF Vectors\n",
    "\n",
    "Here we will demonstrate two ways to generate TF-IDF vectors with both sklearn and gensim.  It's good to be aware of both methods because depending on your specific workflow, one method might be easier than the other!"
   ]
  },
  {
   "cell_type": "code",
   "execution_count": 158,
   "metadata": {},
   "outputs": [],
   "source": [
    "# For sklearn, it's VERY similar to how we did CountVectorizer\n",
    "vectorizer = TfidfVectorizer(ngram_range=(1,3), stop_words='english')\n",
    "#vectorizer = TfidfVectorizer(ngram_range=(1,3))\n",
    "X_tfidf = vectorizer.fit_transform(corpus)"
   ]
  },
  {
   "cell_type": "code",
   "execution_count": 159,
   "metadata": {},
   "outputs": [
    {
     "data": {
      "text/plain": [
       "(50, 14300)"
      ]
     },
     "execution_count": 159,
     "metadata": {},
     "output_type": "execute_result"
    }
   ],
   "source": [
    "X_tfidf.shape"
   ]
  },
  {
   "cell_type": "code",
   "execution_count": 160,
   "metadata": {},
   "outputs": [
    {
     "name": "stdout",
     "output_type": "stream",
     "text": [
      "CountVector: [0 0 0 0 0 0 0 0 0 0 0 0 0 0 0 0 0 0 0 0 0 0 0 0 0 0 0 0 0 0 0 0 0 0 0 0 0\n",
      " 0 0 2 2 1 1 0 0 0 0 0 0 0]\n",
      "\n",
      "\n",
      "TFIDF: [0.    0.    0.    0.    0.    0.    0.    0.    0.    0.    0.    0.\n",
      " 0.    0.    0.    0.    0.    0.    0.    0.    0.    0.    0.    0.\n",
      " 0.    0.    0.    0.    0.    0.    0.    0.    0.    0.    0.    0.\n",
      " 0.    0.    0.    0.127 0.127 0.063 0.063 0.    0.    0.    0.    0.\n",
      " 0.    0.   ]\n"
     ]
    }
   ],
   "source": [
    "import numpy as np\n",
    "# How do these two representations compare?\n",
    "# Let's look at the first 50 dimensions of the first document to gain some intuition\n",
    "\n",
    "np.set_printoptions(precision=3) # This just makes things a little easier to read\n",
    "\n",
    "print(f\"CountVector: {X.toarray()[0,0:50]}\\n\\n\")\n",
    "\n",
    "print(f\"TFIDF: {X_tfidf.toarray()[0,0:50]}\")"
   ]
  },
  {
   "cell_type": "markdown",
   "metadata": {},
   "source": [
    "Scikit-learn isn't our only option for doing TF-IDF.  Gensim is another popular library for many NLP tasks"
   ]
  },
  {
   "cell_type": "code",
   "execution_count": 161,
   "metadata": {},
   "outputs": [],
   "source": [
    "import gensim"
   ]
  },
  {
   "cell_type": "code",
   "execution_count": 162,
   "metadata": {},
   "outputs": [
    {
     "data": {
      "text/plain": [
       "50"
      ]
     },
     "execution_count": 162,
     "metadata": {},
     "output_type": "execute_result"
    }
   ],
   "source": [
    "# Tokenize the documents\n",
    "tokenized_docs = [gensim.utils.simple_preprocess(d) for d in corpus]\n",
    "len(tokenized_docs)"
   ]
  },
  {
   "cell_type": "code",
   "execution_count": 163,
   "metadata": {},
   "outputs": [
    {
     "data": {
      "text/plain": [
       "<gensim.corpora.dictionary.Dictionary at 0x7f99f83d0100>"
      ]
     },
     "execution_count": 163,
     "metadata": {},
     "output_type": "execute_result"
    }
   ],
   "source": [
    "\n",
    "# Create a Gensim Dictionary.  This creates an id to word mapping for everything in our vocbulary\n",
    "# It is NOT the same as the dictionary object in the Python standard library\n",
    "mydict = gensim.corpora.Dictionary()\n",
    "mydict"
   ]
  },
  {
   "cell_type": "code",
   "execution_count": 164,
   "metadata": {},
   "outputs": [],
   "source": [
    "\n",
    "\n",
    "\n",
    "# Create a Gensim Corpus object.  This creates a list of tuples for each document.\n",
    "# The first element of the tuple is the word id, the second is the number of counts\n",
    "mycorpus = [mydict.doc2bow(doc, allow_update=True) for doc in tokenized_docs]"
   ]
  },
  {
   "cell_type": "markdown",
   "metadata": {},
   "source": [
    "get id for a word"
   ]
  },
  {
   "cell_type": "code",
   "execution_count": 165,
   "metadata": {},
   "outputs": [
    {
     "data": {
      "text/plain": [
       "2"
      ]
     },
     "execution_count": 165,
     "metadata": {},
     "output_type": "execute_result"
    }
   ],
   "source": [
    "mydict.token2id['also']"
   ]
  },
  {
   "cell_type": "code",
   "execution_count": 108,
   "metadata": {},
   "outputs": [],
   "source": [
    "# This creates the doc-term matrix as a numpy array.\n",
    "# Typically these matrices are HUGE so, it's usuall not a great idea to create the full dense doc-term matrix.\n",
    "# We do it here to illustrate that you can get the same info as we obtained in scikit-learn!\n",
    "doc_term_matrix = gensim.matutils.corpus2dense(mycorpus, num_terms=len(mydict))"
   ]
  },
  {
   "cell_type": "code",
   "execution_count": 109,
   "metadata": {},
   "outputs": [
    {
     "data": {
      "text/plain": [
       "(2907, 50)"
      ]
     },
     "execution_count": 109,
     "metadata": {},
     "output_type": "execute_result"
    }
   ],
   "source": [
    "doc_term_matrix.shape"
   ]
  },
  {
   "cell_type": "code",
   "execution_count": 110,
   "metadata": {},
   "outputs": [],
   "source": [
    "# Creating a tf-idf model is very simple!\n",
    "tfidf = gensim.models.TfidfModel(mycorpus)\n",
    "tfidf_matrix = gensim.matutils.corpus2dense(tfidf[mycorpus], num_terms=len(mydict))"
   ]
  },
  {
   "cell_type": "code",
   "execution_count": 111,
   "metadata": {},
   "outputs": [
    {
     "data": {
      "text/plain": [
       "<gensim.models.tfidfmodel.TfidfModel at 0x7f9a4b87e610>"
      ]
     },
     "execution_count": 111,
     "metadata": {},
     "output_type": "execute_result"
    }
   ],
   "source": [
    "tfidf"
   ]
  },
  {
   "cell_type": "code",
   "execution_count": 112,
   "metadata": {},
   "outputs": [
    {
     "data": {
      "text/plain": [
       "2907"
      ]
     },
     "execution_count": 112,
     "metadata": {},
     "output_type": "execute_result"
    }
   ],
   "source": [
    "len(mydict)"
   ]
  },
  {
   "cell_type": "code",
   "execution_count": 113,
   "metadata": {},
   "outputs": [
    {
     "data": {
      "text/plain": [
       "2598"
      ]
     },
     "execution_count": 113,
     "metadata": {},
     "output_type": "execute_result"
    }
   ],
   "source": [
    "mydict.token2id['apple']"
   ]
  },
  {
   "cell_type": "code",
   "execution_count": 114,
   "metadata": {
    "scrolled": true
   },
   "outputs": [
    {
     "data": {
      "text/plain": [
       "array([0.   , 0.   , 0.   , 0.   , 0.   , 0.   , 0.046, 0.   , 0.   ,\n",
       "       0.   , 0.   , 0.   , 0.   , 0.   , 0.   , 0.   , 0.065, 0.   ,\n",
       "       0.   , 0.05 , 0.   , 0.   , 0.   , 0.   , 0.035, 0.   , 0.   ,\n",
       "       0.   , 0.   , 0.   , 0.   , 0.   , 0.   , 0.   , 0.   , 0.   ,\n",
       "       0.   , 0.   , 0.   , 0.   , 0.   , 0.   , 0.   , 0.   , 0.   ,\n",
       "       0.   , 0.   , 0.   , 0.07 , 0.   ], dtype=float32)"
      ]
     },
     "execution_count": 114,
     "metadata": {},
     "output_type": "execute_result"
    }
   ],
   "source": [
    "tfidf_matrix[mydict.token2id['news'],: ]"
   ]
  },
  {
   "cell_type": "code",
   "execution_count": 115,
   "metadata": {},
   "outputs": [
    {
     "data": {
      "text/plain": [
       "0.045599412"
      ]
     },
     "execution_count": 115,
     "metadata": {},
     "output_type": "execute_result"
    }
   ],
   "source": [
    "tfidf_matrix[mydict.token2id['news'],6 ]"
   ]
  },
  {
   "cell_type": "markdown",
   "metadata": {},
   "source": [
    "### Time series analysis of TF-IDF, graphed word by word"
   ]
  },
  {
   "cell_type": "code",
   "execution_count": 200,
   "metadata": {},
   "outputs": [],
   "source": [
    "doc1 = \"process concrescence, there is succession of phases in which new prehensions arise by integration of prehensions in the antececent phases\"\n",
    "#doc1 = \"the philosophers never heard of prehension before philosophers coined prehension as prehension\"\n",
    "#doc2 = \"every good good boy deserves fudge one day if behaving better than yesterday\"\n",
    "doc2 = \"the good in good body joy as fire phases if behaving worse than in before\"\n",
    "doc3 = \"the metal toys bring joy as fire trucks drive worse than yesterday\"\n",
    "doc4 = \"the sketches go well before with fudge if eaten before today of course\"\n",
    "doc5 = \"she sells sea shells by the sea shore\"\n",
    "corp = [doc1, doc2,doc3, doc4, doc5]\n",
    "\n",
    "t_docs = [gensim.utils.simple_preprocess(d) for d in corp]\n",
    "\n",
    "mynewdict = gensim.corpora.Dictionary()\n",
    "mynewdict\n",
    "\n",
    "mynewcorpus = [mynewdict.doc2bow(doc, allow_update=True) for doc in t_docs]\n",
    "\n",
    "new_doc_term_matrix = gensim.matutils.corpus2dense(mynewcorpus, num_terms=len(mynewdict))\n",
    "\n",
    "new_tfidf = gensim.models.TfidfModel(mynewcorpus)\n",
    "new_tfidf_matrix = gensim.matutils.corpus2dense(new_tfidf[mynewcorpus], num_terms=len(mynewdict))"
   ]
  },
  {
   "cell_type": "code",
   "execution_count": 201,
   "metadata": {},
   "outputs": [
    {
     "data": {
      "text/plain": [
       "['process',\n",
       " 'concrescence,',\n",
       " 'there',\n",
       " 'is',\n",
       " 'succession',\n",
       " 'of',\n",
       " 'phases',\n",
       " 'in',\n",
       " 'which',\n",
       " 'new',\n",
       " 'prehensions',\n",
       " 'arise',\n",
       " 'by',\n",
       " 'integration',\n",
       " 'of',\n",
       " 'prehensions',\n",
       " 'in',\n",
       " 'the',\n",
       " 'antececent',\n",
       " 'phases']"
      ]
     },
     "execution_count": 201,
     "metadata": {},
     "output_type": "execute_result"
    }
   ],
   "source": [
    "doc1_list = doc1.split(' ')\n",
    "doc1_list"
   ]
  },
  {
   "cell_type": "code",
   "execution_count": 202,
   "metadata": {},
   "outputs": [],
   "source": [
    "doc2_list = doc2.split(' ')\n",
    "doc3_list = doc3.split(' ')\n",
    "doc4_list = doc4.split(' ')\n",
    "doc5_list = doc5.split(' ')\n",
    "#[new_tfidf_matrix[mynewdict.token2id[ word], 0 ] for word in doc2_list]\n",
    "# mynewdict.token2id[ 'metal']\n",
    "# new_tfidf_matrix[mynewdict.token2id[ 'metal'], 0 ]"
   ]
  },
  {
   "cell_type": "code",
   "execution_count": 203,
   "metadata": {},
   "outputs": [],
   "source": [
    "\n",
    "intensities  = [new_tfidf_matrix[mynewdict.token2id[ word.replace(',','').lower()], 0 ] for word in doc1_list]\n",
    "intensities2 = [new_tfidf_matrix[mynewdict.token2id[ word.replace(',','').lower()], 0 ] for word in doc2_list]\n",
    "intensities3 = [new_tfidf_matrix[mynewdict.token2id[ word.replace(',','').lower()], 0 ] for word in doc3_list]\n",
    "intensities4 = [new_tfidf_matrix[mynewdict.token2id[ word.replace(',','').lower()], 0 ] for word in doc4_list]\n",
    "intensities5 = [new_tfidf_matrix[mynewdict.token2id[ word.replace(',','').lower()], 0 ] for word in doc5_list]"
   ]
  },
  {
   "cell_type": "code",
   "execution_count": 204,
   "metadata": {},
   "outputs": [
    {
     "data": {
      "text/plain": [
       "[0.23431557,\n",
       " 0.23431557,\n",
       " 0.23431557,\n",
       " 0.23431557,\n",
       " 0.23431557,\n",
       " 0.2668027,\n",
       " 0.2668027,\n",
       " 0.2668027,\n",
       " 0.23431557,\n",
       " 0.23431557,\n",
       " 0.46863115,\n",
       " 0.23431557,\n",
       " 0.13340135,\n",
       " 0.23431557,\n",
       " 0.2668027,\n",
       " 0.46863115,\n",
       " 0.2668027,\n",
       " 0.0,\n",
       " 0.23431557,\n",
       " 0.2668027]"
      ]
     },
     "execution_count": 204,
     "metadata": {},
     "output_type": "execute_result"
    }
   ],
   "source": [
    "intensities "
   ]
  },
  {
   "cell_type": "code",
   "execution_count": 205,
   "metadata": {},
   "outputs": [
    {
     "data": {
      "text/plain": [
       "0.25073177"
      ]
     },
     "execution_count": 205,
     "metadata": {},
     "output_type": "execute_result"
    }
   ],
   "source": [
    "np.mean(intensities)"
   ]
  },
  {
   "cell_type": "code",
   "execution_count": 206,
   "metadata": {},
   "outputs": [
    {
     "data": {
      "text/plain": [
       "[0.0,\n",
       " 0.0,\n",
       " 0.2668027,\n",
       " 0.0,\n",
       " 0.0,\n",
       " 0.0,\n",
       " 0.0,\n",
       " 0.0,\n",
       " 0.2668027,\n",
       " 0.0,\n",
       " 0.0,\n",
       " 0.0,\n",
       " 0.0,\n",
       " 0.2668027,\n",
       " 0.0]"
      ]
     },
     "execution_count": 206,
     "metadata": {},
     "output_type": "execute_result"
    }
   ],
   "source": [
    "intensities2"
   ]
  },
  {
   "cell_type": "code",
   "execution_count": 207,
   "metadata": {},
   "outputs": [
    {
     "data": {
      "text/plain": [
       "0.0"
      ]
     },
     "execution_count": 207,
     "metadata": {},
     "output_type": "execute_result"
    }
   ],
   "source": [
    "np.mean(intensities3)"
   ]
  },
  {
   "cell_type": "code",
   "execution_count": 208,
   "metadata": {},
   "outputs": [
    {
     "data": {
      "text/plain": [
       "0.020523284"
      ]
     },
     "execution_count": 208,
     "metadata": {},
     "output_type": "execute_result"
    }
   ],
   "source": [
    "np.mean(intensities4)"
   ]
  },
  {
   "cell_type": "code",
   "execution_count": 210,
   "metadata": {},
   "outputs": [
    {
     "data": {
      "text/plain": [
       "Text(0.5, 1.0, \"Fluctuating verbal eccentricity in an excerpt from Alfred North Whitehead's Process and Reality'\")"
      ]
     },
     "execution_count": 210,
     "metadata": {},
     "output_type": "execute_result"
    },
    {
     "data": {
      "image/png": "[encoded data removed]",
      "text/plain": [
       "<Figure size 1440x216 with 1 Axes>"
      ]
     },
     "metadata": {
      "needs_background": "light"
     },
     "output_type": "display_data"
    }
   ],
   "source": [
    "import seaborn as sns\n",
    "from matplotlib import pyplot as plt\n",
    "plt.rcParams[\"figure.figsize\"] = [20,3]\n",
    "fig, ax = plt.subplots(nrows=1, ncols=1)\n",
    "ax.plot(range(len(doc1_list)), intensities)\n",
    "plt.ylabel(\"TF-IDF\")\n",
    "ax.set_xticks(range( len(doc1_list)))\n",
    "ax.set_xticklabels(doc1_list)\n",
    "ax.set_title(\"Fluctuating verbal eccentricity in an excerpt from Alfred North Whitehead\\'s Process and Reality'\")"
   ]
  },
  {
   "cell_type": "code",
   "execution_count": 199,
   "metadata": {},
   "outputs": [
    {
     "data": {
      "text/plain": [
       "[Text(0, 0, 'the'),\n",
       " Text(1, 0, 'good'),\n",
       " Text(2, 0, 'in'),\n",
       " Text(3, 0, 'good'),\n",
       " Text(4, 0, 'body'),\n",
       " Text(5, 0, 'joy'),\n",
       " Text(6, 0, 'as'),\n",
       " Text(7, 0, 'fire'),\n",
       " Text(8, 0, 'trucks'),\n",
       " Text(9, 0, 'if'),\n",
       " Text(10, 0, 'behaving'),\n",
       " Text(11, 0, 'worse'),\n",
       " Text(12, 0, 'than'),\n",
       " Text(13, 0, 'in'),\n",
       " Text(14, 0, 'before')]"
      ]
     },
     "execution_count": 199,
     "metadata": {},
     "output_type": "execute_result"
    },
    {
     "data": {
      "image/png": "[encoded data removed]",
      "text/plain": [
       "<Figure size 1080x216 with 1 Axes>"
      ]
     },
     "metadata": {
      "needs_background": "light"
     },
     "output_type": "display_data"
    }
   ],
   "source": [
    "import seaborn as sns\n",
    "from matplotlib import pyplot as plt\n",
    "plt.rcParams[\"figure.figsize\"] = [15,3]\n",
    "fig, ax = plt.subplots(nrows=1, ncols=1)\n",
    "ax.set_ylim(0,.8)\n",
    "ax.plot(range(len(doc2_list)), intensities2)\n",
    "ax.set_xticks(range( len(doc2_list)))\n",
    "ax.set_xticklabels(doc2_list)"
   ]
  },
  {
   "cell_type": "code",
   "execution_count": 187,
   "metadata": {},
   "outputs": [
    {
     "data": {
      "text/plain": [
       "[Text(0, 0, 'the'),\n",
       " Text(1, 0, 'metal'),\n",
       " Text(2, 0, 'toys'),\n",
       " Text(3, 0, 'bring'),\n",
       " Text(4, 0, 'joy'),\n",
       " Text(5, 0, 'as'),\n",
       " Text(6, 0, 'fire'),\n",
       " Text(7, 0, 'trucks'),\n",
       " Text(8, 0, 'drive'),\n",
       " Text(9, 0, 'worse'),\n",
       " Text(10, 0, 'than'),\n",
       " Text(11, 0, 'yesterday')]"
      ]
     },
     "execution_count": 187,
     "metadata": {},
     "output_type": "execute_result"
    },
    {
     "data": {
      "image/png": "[encoded data removed]",
      "text/plain": [
       "<Figure size 1080x216 with 1 Axes>"
      ]
     },
     "metadata": {
      "needs_background": "light"
     },
     "output_type": "display_data"
    }
   ],
   "source": [
    "import seaborn as sns\n",
    "from matplotlib import pyplot as plt\n",
    "plt.rcParams[\"figure.figsize\"] = [15,3]\n",
    "fig, ax = plt.subplots(nrows=1, ncols=1)\n",
    "ax.set_ylim(0,.8)\n",
    "ax.plot(range(len(doc3_list)), intensities3)\n",
    "ax.set_xticks(range( len(doc3_list)))\n",
    "ax.set_xticklabels(doc3_list)"
   ]
  },
  {
   "cell_type": "code",
   "execution_count": null,
   "metadata": {},
   "outputs": [],
   "source": [
    "import seaborn as sns\n",
    "from matplotlib import pyplot as plt\n",
    "plt.rcParams[\"figure.figsize\"] = [15,3]\n",
    "fig, ax = plt.subplots(nrows=1, ncols=1)\n",
    "ax.set_ylim(0,.8)\n",
    "ax.plot(range(len(doc4_list)), intensities4)\n",
    "ax.set_xticks(range( len(doc4_list)))\n",
    "ax.set_xticklabels(doc4_list)"
   ]
  },
  {
   "cell_type": "code",
   "execution_count": null,
   "metadata": {},
   "outputs": [],
   "source": [
    "import seaborn as sns\n",
    "from matplotlib import pyplot as plt\n",
    "plt.rcParams[\"figure.figsize\"] = [15,3]\n",
    "fig, ax = plt.subplots(nrows=1, ncols=1)\n",
    "ax.set_ylim(0,.8)\n",
    "ax.plot(range(len(doc5_list)), intensities5)\n",
    "ax.set_xticks(range( len(doc5_list)))\n",
    "ax.set_xticklabels(doc5_list)"
   ]
  },
  {
   "cell_type": "code",
   "execution_count": null,
   "metadata": {},
   "outputs": [],
   "source": [
    "[word for word in doc1_list]"
   ]
  },
  {
   "cell_type": "markdown",
   "metadata": {},
   "source": [
    "# Word2Vec and GloVe\n",
    "\n",
    "Word2Vec is a very powerful and useful word embedding method.  The math can get a little sticky, but luckily Gensim comes equipped with ways for us to train our own Word2Vec model, or load in a pre-trained word2vec model.  Let's check it out!"
   ]
  },
  {
   "cell_type": "code",
   "execution_count": null,
   "metadata": {},
   "outputs": [],
   "source": []
  },
  {
   "cell_type": "markdown",
   "metadata": {},
   "source": [
    "### import Whitehead etc."
   ]
  },
  {
   "cell_type": "code",
   "execution_count": null,
   "metadata": {},
   "outputs": [],
   "source": [
    "path_prefix = '/Users/joshuamailman/Desktop/Metis_Bootcamp/Metis_Bootcamp_repos/langauge_on_a_holiday/'\n",
    "whitehead_pr_filename = 'Whitehead_process_and_reality.txt'\n",
    "whitehead_pr_file = open(path_prefix + whitehead_pr_filename , 'rt')\n",
    "whitehead_pr_string = whitehead_pr_file.read()"
   ]
  },
  {
   "cell_type": "code",
   "execution_count": null,
   "metadata": {},
   "outputs": [],
   "source": [
    "def remove_pseudo_soft_returns(s):\n",
    "    s = s.replace('\\n\\n'*3, '^S ^p ').replace(' \\n\\n', '^p ').replace('\\n\\n', ' ').replace('- \\n', '').replace(' \\n', ' ')\n",
    "    return s"
   ]
  },
  {
   "cell_type": "code",
   "execution_count": null,
   "metadata": {},
   "outputs": [],
   "source": [
    "documents = [remove_pseudo_soft_returns(whitehead_pr_string).replace('^P', ' ').replace('^p', ' ')]"
   ]
  },
  {
   "cell_type": "code",
   "execution_count": null,
   "metadata": {},
   "outputs": [],
   "source": [
    "documents"
   ]
  },
  {
   "cell_type": "code",
   "execution_count": null,
   "metadata": {},
   "outputs": [],
   "source": [
    "tokenized_docs = [gensim.utils.simple_preprocess(d) for d in documents]"
   ]
  },
  {
   "cell_type": "code",
   "execution_count": null,
   "metadata": {},
   "outputs": [],
   "source": [
    "# tokenized_docs"
   ]
  },
  {
   "cell_type": "code",
   "execution_count": null,
   "metadata": {},
   "outputs": [],
   "source": [
    "documents = [\"Human machine interface for lab abc computer applications\",\n",
    "             \"A survey of user opinion of computer system response time\",\n",
    "             \"The EPS user interface management system\",\n",
    "             \"System and human system engineering testing of EPS\",\n",
    "              \"Relation of user perceived response time to error measurement\",\n",
    "              \"The generation of random binary unordered trees\",\n",
    "              \"The intersection graph of paths in trees\",\n",
    "              \"Graph minors IV Widths of trees and well quasi ordering\",\n",
    "              \"Graph minors A survey\"]\n",
    "\n",
    "tokenized_docs = [gensim.utils.simple_preprocess(d) for d in documents]\n"
   ]
  },
  {
   "cell_type": "code",
   "execution_count": null,
   "metadata": {},
   "outputs": [],
   "source": [
    "# size refers to the desired dimension of our word vectors\n",
    "# window refers to the size of our context window\n",
    "# sg means that we are using the Skip-gram architecture\n",
    "\n",
    "model = gensim.models.Word2Vec(tokenized_docs, size=10, window=2,min_count=1, sg=1)"
   ]
  },
  {
   "cell_type": "code",
   "execution_count": null,
   "metadata": {},
   "outputs": [],
   "source": [
    "print(model['human'])"
   ]
  },
  {
   "cell_type": "markdown",
   "metadata": {},
   "source": [
    "Training our own model with word2vec is pretty cool, but it requires us to have a large corpus of data.\n",
    "\n",
    "Fortunately, research groups at Stanford and Google have made their pre-trained word embeddings publicly available for us to use!\n",
    "\n",
    "Google's word2vec: https://drive.google.com/file/d/0B7XkCwpI5KDYNlNUTTlSS21pQmM/edit\n",
    "\n",
    "GloVe:  https://nlp.stanford.edu/projects/glove/\n",
    "\n",
    "Just note that these model's will require ~4 GB of RAM to fit in memory"
   ]
  },
  {
   "cell_type": "code",
   "execution_count": null,
   "metadata": {},
   "outputs": [],
   "source": [
    "# Path to where the word2vec file lives\n",
    "#google_vec_file = '/Users/joshuamailman/Downloads/GoogleNews-vectors-negative300.bin'\n",
    "google_vec_file = '/Users/joshuamailman/Downloads/GoogleNews-vectors-negative300.bin'"
   ]
  },
  {
   "cell_type": "code",
   "execution_count": null,
   "metadata": {},
   "outputs": [],
   "source": [
    "# Load it!  This might take a few minutes...\n",
    "model = gensim.models.KeyedVectors.load_word2vec_format(google_vec_file, binary=True)"
   ]
  },
  {
   "cell_type": "code",
   "execution_count": null,
   "metadata": {},
   "outputs": [],
   "source": [
    "# We can access individual word vectors using a dictionary-like syntax\n",
    "model['Metis']"
   ]
  },
  {
   "cell_type": "code",
   "execution_count": null,
   "metadata": {},
   "outputs": [],
   "source": [
    "# Some cool results!\n",
    "\n",
    "model.most_similar('organism' ,topn=8)"
   ]
  },
  {
   "cell_type": "code",
   "execution_count": null,
   "metadata": {},
   "outputs": [],
   "source": [
    "model.most_similar('emotion' ,topn=5)"
   ]
  },
  {
   "cell_type": "code",
   "execution_count": null,
   "metadata": {},
   "outputs": [],
   "source": [
    "# Here's an analogy task!\n",
    "\n",
    "model.most_similar(positive=['occasion', 'empirical'], negative=['metaphysics'])"
   ]
  },
  {
   "cell_type": "code",
   "execution_count": null,
   "metadata": {},
   "outputs": [],
   "source": [
    "model.most_similar(positive=['prehension', 'feeling'])"
   ]
  },
  {
   "cell_type": "code",
   "execution_count": null,
   "metadata": {},
   "outputs": [],
   "source": [
    "model.most_similar(positive=['prehension', 'emotion'])"
   ]
  },
  {
   "cell_type": "code",
   "execution_count": null,
   "metadata": {},
   "outputs": [],
   "source": [
    "\n",
    "model.most_similar('process')"
   ]
  },
  {
   "cell_type": "code",
   "execution_count": null,
   "metadata": {},
   "outputs": [],
   "source": [
    "\n",
    "model.most_similar('prehension')"
   ]
  },
  {
   "cell_type": "code",
   "execution_count": null,
   "metadata": {},
   "outputs": [],
   "source": [
    "model.most_similar('actual')"
   ]
  },
  {
   "cell_type": "code",
   "execution_count": null,
   "metadata": {},
   "outputs": [],
   "source": [
    "model.most_similar(positive=['emotion', 'occasion'], negative=['metaphysics'])"
   ]
  },
  {
   "cell_type": "code",
   "execution_count": null,
   "metadata": {},
   "outputs": [],
   "source": [
    "model.most_similar(positive=['emotion', 'occasion', 'organism'], negative=['metaphysics'])"
   ]
  },
  {
   "cell_type": "code",
   "execution_count": null,
   "metadata": {},
   "outputs": [],
   "source": [
    "model.most_similar(positive=['empirical', 'organism'], negative=['metaphysics'])"
   ]
  },
  {
   "cell_type": "code",
   "execution_count": null,
   "metadata": {},
   "outputs": [],
   "source": [
    "model.most_similar(positive=['time', 'organism'])"
   ]
  },
  {
   "cell_type": "code",
   "execution_count": null,
   "metadata": {},
   "outputs": [],
   "source": [
    "model.most_similar(positive=['geometry', 'organism'], negative=['metaphysics'])"
   ]
  },
  {
   "cell_type": "code",
   "execution_count": null,
   "metadata": {},
   "outputs": [],
   "source": [
    "model.most_similar(positive=['geometry', 'organism'])"
   ]
  },
  {
   "cell_type": "code",
   "execution_count": null,
   "metadata": {},
   "outputs": [],
   "source": [
    "model.most_similar(positive=['Paris', 'England'], negative=['London'])"
   ]
  },
  {
   "cell_type": "markdown",
   "metadata": {},
   "source": [
    "Using GloVe with Gensim requires a little extra leg work, but it's not too bad.\n",
    "The problem is that the file format that is publicly available doesn't play nice with Gensim.\n",
    "Luckily, Gensim provides a handy method of converting it!"
   ]
  },
  {
   "cell_type": "code",
   "execution_count": null,
   "metadata": {},
   "outputs": [],
   "source": [
    "#glove_file = glove_dir  = '/Users/joshuamailman/Downloads/glove.6B/glove.6B.100d.txt'\n",
    "glove_file = glove_dir  = '../glove.6B/glove.6B.100d.txt'\n",
    "\n",
    "\n"
   ]
  },
  {
   "cell_type": "code",
   "execution_count": null,
   "metadata": {},
   "outputs": [],
   "source": [
    "w2v_output_file = '../glove.6B/glove.6B.100d.txt.w2v'\n"
   ]
  },
  {
   "cell_type": "code",
   "execution_count": null,
   "metadata": {},
   "outputs": [],
   "source": [
    "# The following utility converts file formats\n",
    "gensim.scripts.glove2word2vec.glove2word2vec(glove_file, w2v_output_file)"
   ]
  },
  {
   "cell_type": "code",
   "execution_count": null,
   "metadata": {},
   "outputs": [],
   "source": [
    "# Now we can load it!\n",
    "model = gensim.models.KeyedVectors.load_word2vec_format(w2v_output_file, binary=False)"
   ]
  },
  {
   "cell_type": "code",
   "execution_count": null,
   "metadata": {},
   "outputs": [],
   "source": [
    "# How does it compare to the previous examples we did with word2vec?\n",
    "model.most_similar('meeting' ,topn=8)"
   ]
  },
  {
   "cell_type": "code",
   "execution_count": null,
   "metadata": {},
   "outputs": [],
   "source": [
    "model.most_similar('president' ,topn=5)"
   ]
  },
  {
   "cell_type": "code",
   "execution_count": null,
   "metadata": {},
   "outputs": [],
   "source": [
    "model.most_similar(positive=['woman', 'king'], negative=['man'])"
   ]
  },
  {
   "cell_type": "markdown",
   "metadata": {},
   "source": [
    "# Your Turn!\n",
    "\n",
    "- Using either word2vec or GloVe, what interesting analogies or relationships?\n",
    "\n",
    "- Given a short piece of text (like a tweet) what strategies can you think of to create a \"tweet vector\"?"
   ]
  },
  {
   "cell_type": "code",
   "execution_count": null,
   "metadata": {},
   "outputs": [],
   "source": []
  }
 ],
 "metadata": {
  "kernelspec": {
   "display_name": "Python [conda env:metis] *",
   "language": "python",
   "name": "conda-env-metis-py"
  },
  "language_info": {
   "codemirror_mode": {
    "name": "ipython",
    "version": 3
   },
   "file_extension": ".py",
   "mimetype": "text/x-python",
   "name": "python",
   "nbconvert_exporter": "python",
   "pygments_lexer": "ipython3",
   "version": "3.8.6"
  }
 },
 "nbformat": 4,
 "nbformat_minor": 2
}
