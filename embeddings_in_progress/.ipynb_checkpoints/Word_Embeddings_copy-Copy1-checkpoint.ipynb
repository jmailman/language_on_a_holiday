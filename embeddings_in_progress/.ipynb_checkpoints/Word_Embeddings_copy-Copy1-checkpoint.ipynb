{
 "cells": [
  {
   "cell_type": "markdown",
   "metadata": {},
   "source": [
    "In this notebook, we will get an overview of how to generate word vectors using the various word embedding methods discussed in the lecture\n",
    "\n",
    "### Objectives:\n",
    "- Implement Count Vectors with sklearn\n",
    "- Implement TF-IDF Vectors with sklearn and gensim\n",
    "- Train and save word2vec model with gensim\n",
    "- Load Google's pretrained word2vec model\n",
    "- Load Stanford's pretrained GloVe model"
   ]
  },
  {
   "cell_type": "code",
   "execution_count": 1,
   "metadata": {},
   "outputs": [],
   "source": [
    "from sklearn.feature_extraction.text import CountVectorizer, TfidfVectorizer\n",
    "from sklearn.datasets import fetch_20newsgroups"
   ]
  },
  {
   "cell_type": "code",
   "execution_count": 2,
   "metadata": {},
   "outputs": [],
   "source": [
    "categories = ['alt.atheism', 'soc.religion.christian','comp.graphics', 'sci.med']\n",
    "twenty_train = fetch_20newsgroups(subset='train', categories=categories, shuffle=True, random_state=42)\n",
    "\n",
    "corpus = twenty_train.data[0:50]"
   ]
  },
  {
   "cell_type": "code",
   "execution_count": 3,
   "metadata": {},
   "outputs": [
    {
     "name": "stdout",
     "output_type": "stream",
     "text": [
      "From: sd345@city.ac.uk (Michael Collier)\n",
      "Subject: Converting images to HP LaserJet III?\n",
      "Nntp-Posting-Host: hampton\n",
      "Organization: The City University\n",
      "Lines: 14\n",
      "\n",
      "Does anyone know of a good way (standard PC application/PD utility) to\n",
      "convert tif/img/tga files into LaserJet III format.  We would also like to\n",
      "do the same, converting to HPGL (HP plotter) files.\n",
      "\n",
      "Please email any response.\n",
      "\n",
      "Is this the correct group?\n",
      "\n",
      "Thanks in advance.  Michael.\n",
      "-- \n",
      "Michael Collier (Programmer)                 The Computer Unit,\n",
      "Email: M.P.Collier@uk.ac.city                The City University,\n",
      "Tel: 071 477-8000 x3769                      London,\n",
      "Fax: 071 477-8565                            EC1V 0HB.\n",
      "\n"
     ]
    }
   ],
   "source": [
    "print(f\"{corpus[0]}\")"
   ]
  },
  {
   "cell_type": "code",
   "execution_count": 4,
   "metadata": {},
   "outputs": [
    {
     "name": "stdout",
     "output_type": "stream",
     "text": [
      "Dimensions of Document-term matrix: (50, 3075)\n"
     ]
    }
   ],
   "source": [
    "vectorizer = CountVectorizer()\n",
    "X = vectorizer.fit_transform(corpus)\n",
    "\n",
    "print(f\"Dimensions of Document-term matrix: {X.toarray().shape}\")"
   ]
  },
  {
   "cell_type": "markdown",
   "metadata": {},
   "source": [
    "From the result above, we can see that the second dimension gives us the size of our vocabulary.\n",
    "\n",
    "But why restrict ourselves to single words? We can pass an additional argument to the CountVectorizer() object to add n-grams to our vocabulary.\n",
    "\n",
    "What is an n-gram?  It's just a collection of n consecutive words. For example:\n",
    "\"New\", \"York\", \"City\", \"subway\" are all unigrams\n",
    "\"New York\", \"York City\", \"City subway\" are bigrams\n",
    "\"New York City\", \"York City subway\" are trigrams\n",
    "\"New York City subway\" is a 4-gram\n",
    "\n",
    "We can specify to include n-grams with the ngram_range argument.  This takes a tuple which specifies the range of n-grams that we should include (inclusively)."
   ]
  },
  {
   "cell_type": "code",
   "execution_count": 5,
   "metadata": {},
   "outputs": [
    {
     "name": "stdout",
     "output_type": "stream",
     "text": [
      "Dimensions of Document-term matrix: (50, 23397)\n"
     ]
    }
   ],
   "source": [
    "# Include unigrams, bigrams, and trigrams\n",
    "\n",
    "vectorizer = CountVectorizer(ngram_range=(1,3))\n",
    "X = vectorizer.fit_transform(corpus)\n",
    "\n",
    "print(f\"Dimensions of Document-term matrix: {X.toarray().shape}\")"
   ]
  },
  {
   "cell_type": "markdown",
   "metadata": {},
   "source": [
    "A common preprocessing step in many NLP applications is stop-word removal.\n",
    "Common words like \"a\", \"the\", \"and\" often add a lot of noise, and don't typiccally contribute much to the task we are trying to solve.\n",
    "\n",
    "CountVectorizer also comes equipped with a way of dealing with common English stop words!"
   ]
  },
  {
   "cell_type": "code",
   "execution_count": 6,
   "metadata": {},
   "outputs": [
    {
     "name": "stdout",
     "output_type": "stream",
     "text": [
      "Dimensions of Document-term matrix: (50, 14300)\n"
     ]
    }
   ],
   "source": [
    "vectorizer = CountVectorizer(ngram_range=(1,3), stop_words='english')\n",
    "X = vectorizer.fit_transform(corpus)\n",
    "\n",
    "print(f\"Dimensions of Document-term matrix: {X.toarray().shape}\")"
   ]
  },
  {
   "cell_type": "markdown",
   "metadata": {},
   "source": [
    "# TF-IDF Vectors\n",
    "\n",
    "Here we will demonstrate two ways to generate TF-IDF vectors with both sklearn and gensim.  It's good to be aware of both methods because depending on your specific workflow, one method might be easier than the other!"
   ]
  },
  {
   "cell_type": "code",
   "execution_count": 7,
   "metadata": {},
   "outputs": [],
   "source": [
    "# For sklearn, it's VERY similar to how we did CountVectorizer\n",
    "vectorizer = TfidfVectorizer(ngram_range=(1,3), stop_words='english')\n",
    "X_tfidf = vectorizer.fit_transform(corpus)"
   ]
  },
  {
   "cell_type": "code",
   "execution_count": 8,
   "metadata": {},
   "outputs": [
    {
     "name": "stdout",
     "output_type": "stream",
     "text": [
      "CountVector: [0 0 0 0 0 0 0 0 0 0 0 0 0 0 0 0 0 0 0 0 0 0 0 0 0 0 0 0 0 0 0 0 0 0 0 0 0\n",
      " 0 0 2 2 1 1 0 0 0 0 0 0 0]\n",
      "\n",
      "\n",
      "TFIDF: [0.    0.    0.    0.    0.    0.    0.    0.    0.    0.    0.    0.\n",
      " 0.    0.    0.    0.    0.    0.    0.    0.    0.    0.    0.    0.\n",
      " 0.    0.    0.    0.    0.    0.    0.    0.    0.    0.    0.    0.\n",
      " 0.    0.    0.    0.127 0.127 0.063 0.063 0.    0.    0.    0.    0.\n",
      " 0.    0.   ]\n"
     ]
    }
   ],
   "source": [
    "import numpy as np\n",
    "# How do these two representations compare?\n",
    "# Let's look at the first 50 dimensions of the first document to gain some intuition\n",
    "\n",
    "np.set_printoptions(precision=3) # This just makes things a little easier to read\n",
    "\n",
    "print(f\"CountVector: {X.toarray()[0,0:50]}\\n\\n\")\n",
    "\n",
    "print(f\"TFIDF: {X_tfidf.toarray()[0,0:50]}\")"
   ]
  },
  {
   "cell_type": "markdown",
   "metadata": {},
   "source": [
    "Scikit-learn isn't our only option for doing TF-IDF.  Gensim is another popular library for many NLP tasks"
   ]
  },
  {
   "cell_type": "code",
   "execution_count": 9,
   "metadata": {},
   "outputs": [],
   "source": [
    "import gensim"
   ]
  },
  {
   "cell_type": "code",
   "execution_count": 10,
   "metadata": {},
   "outputs": [],
   "source": [
    "# Tokenize the documents\n",
    "tokenized_docs = [gensim.utils.simple_preprocess(d) for d in corpus]\n",
    "\n",
    "# Create a Gensim Dictionary.  This creates an id to word mapping for everything in our vocbulary\n",
    "# It is NOT the same as the dictionary object in the Python standard library\n",
    "mydict = gensim.corpora.Dictionary()\n",
    "\n",
    "# Create a Gensim Corpus object.  This creates a list of tuples for each document.\n",
    "# The first element of the tuple is the word id, the second is the number of counts\n",
    "mycorpus = [mydict.doc2bow(doc, allow_update=True) for doc in tokenized_docs]"
   ]
  },
  {
   "cell_type": "code",
   "execution_count": 11,
   "metadata": {},
   "outputs": [],
   "source": [
    "# This creates the doc-term matrix as a numpy array.\n",
    "# Typically these matrices are HUGE so, it's usuall not a great idea to create the full dense doc-term matrix.\n",
    "# We do it here to illustrate that you can get the same info as we obtained in scikit-learn!\n",
    "doc_term_matrix = gensim.matutils.corpus2dense(mycorpus, num_terms=len(mydict))"
   ]
  },
  {
   "cell_type": "code",
   "execution_count": 12,
   "metadata": {},
   "outputs": [
    {
     "data": {
      "text/plain": [
       "array([[2., 0., 0., ..., 2., 0., 0.],\n",
       "       [1., 0., 0., ..., 0., 0., 0.],\n",
       "       [1., 0., 3., ..., 0., 0., 0.],\n",
       "       ...,\n",
       "       [0., 0., 0., ..., 0., 0., 1.],\n",
       "       [0., 0., 0., ..., 0., 0., 1.],\n",
       "       [0., 0., 0., ..., 0., 0., 1.]], dtype=float32)"
      ]
     },
     "execution_count": 12,
     "metadata": {},
     "output_type": "execute_result"
    }
   ],
   "source": [
    "doc_term_matrix"
   ]
  },
  {
   "cell_type": "code",
   "execution_count": 13,
   "metadata": {},
   "outputs": [],
   "source": [
    "# Creating a tf-idf model is very simple!\n",
    "tfidf = gensim.models.TfidfModel(mycorpus)\n",
    "tfidf_matrix = gensim.matutils.corpus2dense(tfidf[mycorpus], num_terms=len(mydict))"
   ]
  },
  {
   "cell_type": "code",
   "execution_count": 14,
   "metadata": {},
   "outputs": [
    {
     "data": {
      "text/plain": [
       "array([[0.146, 0.   , 0.   , ..., 0.141, 0.   , 0.   ],\n",
       "       [0.093, 0.   , 0.   , ..., 0.   , 0.   , 0.   ],\n",
       "       [0.037, 0.   , 0.056, ..., 0.   , 0.   , 0.   ],\n",
       "       ...,\n",
       "       [0.   , 0.   , 0.   , ..., 0.   , 0.   , 0.072],\n",
       "       [0.   , 0.   , 0.   , ..., 0.   , 0.   , 0.072],\n",
       "       [0.   , 0.   , 0.   , ..., 0.   , 0.   , 0.072]], dtype=float32)"
      ]
     },
     "execution_count": 14,
     "metadata": {},
     "output_type": "execute_result"
    }
   ],
   "source": [
    "tfidf_matrix"
   ]
  },
  {
   "cell_type": "markdown",
   "metadata": {},
   "source": [
    "# Word2Vec and GloVe\n",
    "\n",
    "Word2Vec is a very powerful and useful word embedding method.  The math can get a little sticky, but luckily Gensim comes equipped with ways for us to train our own Word2Vec model, or load in a pre-trained word2vec model.  Let's check it out!"
   ]
  },
  {
   "cell_type": "code",
   "execution_count": 15,
   "metadata": {},
   "outputs": [],
   "source": [
    "documents = [\"Human machine interface for lab abc computer applications\",\n",
    "             \"A survey of user opinion of computer system response time\",\n",
    "             \"The EPS user interface management system\",\n",
    "             \"System and human system engineering testing of EPS\",\n",
    "              \"Relation of user perceived response time to error measurement\",\n",
    "              \"The generation of random binary unordered trees\",\n",
    "              \"The intersection graph of paths in trees\",\n",
    "              \"Graph minors IV Widths of trees and well quasi ordering\",\n",
    "              \"Graph minors A survey\"]\n",
    "\n",
    "tokenized_docs = [gensim.utils.simple_preprocess(d) for d in documents]\n"
   ]
  },
  {
   "cell_type": "code",
   "execution_count": 16,
   "metadata": {},
   "outputs": [],
   "source": [
    "# size refers to the desired dimension of our word vectors\n",
    "# window refers to the size of our context window\n",
    "# sg means that we are using the Skip-gram architecture\n",
    "\n",
    "model = gensim.models.Word2Vec(tokenized_docs, size=10, window=2,min_count=1, sg=1)"
   ]
  },
  {
   "cell_type": "code",
   "execution_count": 17,
   "metadata": {},
   "outputs": [
    {
     "name": "stdout",
     "output_type": "stream",
     "text": [
      "[ 0.01   0.035 -0.008 -0.027  0.016 -0.041  0.009 -0.012  0.037 -0.021]\n"
     ]
    },
    {
     "name": "stderr",
     "output_type": "stream",
     "text": [
      "<ipython-input-17-8ab46e2a8600>:1: DeprecationWarning: Call to deprecated `__getitem__` (Method will be removed in 4.0.0, use self.wv.__getitem__() instead).\n",
      "  print(model['human'])\n"
     ]
    }
   ],
   "source": [
    "print(model['human'])"
   ]
  },
  {
   "cell_type": "markdown",
   "metadata": {},
   "source": [
    "Training our own model with word2vec is pretty cool, but it requires us to have a large corpus of data.\n",
    "\n",
    "Fortunately, research groups at Stanford and Google have made their pre-trained word embeddings publicly available for us to use!\n",
    "\n",
    "Google's word2vec: https://drive.google.com/file/d/0B7XkCwpI5KDYNlNUTTlSS21pQmM/edit\n",
    "\n",
    "GloVe:  https://nlp.stanford.edu/projects/glove/\n",
    "\n",
    "Just note that these model's will require ~4 GB of RAM to fit in memory"
   ]
  },
  {
   "cell_type": "code",
   "execution_count": 18,
   "metadata": {},
   "outputs": [],
   "source": [
    "# Path to where the word2vec file lives\n",
    "#google_vec_file = '/Users/joshuamailman/Downloads/GoogleNews-vectors-negative300.bin'\n",
    "google_vec_file = '/Users/joshuamailman/Downloads/GoogleNews-vectors-negative300.bin'"
   ]
  },
  {
   "cell_type": "code",
   "execution_count": 19,
   "metadata": {},
   "outputs": [],
   "source": [
    "# Load it!  This might take a few minutes...\n",
    "model = gensim.models.KeyedVectors.load_word2vec_format(google_vec_file, binary=True)"
   ]
  },
  {
   "cell_type": "code",
   "execution_count": 20,
   "metadata": {},
   "outputs": [
    {
     "data": {
      "text/plain": [
       "array([-3.320e-02, -4.980e-01,  6.128e-02,  3.301e-01,  2.197e-01,\n",
       "       -2.461e-01,  1.035e-01,  5.786e-02, -2.480e-01, -2.031e-01,\n",
       "        5.518e-02,  1.641e-01,  4.346e-02, -5.547e-01,  1.455e-01,\n",
       "       -1.328e-01,  2.266e-01,  3.711e-02, -4.663e-02, -1.436e-01,\n",
       "       -1.396e-01,  7.275e-02, -2.041e-01, -1.045e-01,  5.249e-02,\n",
       "        1.172e-01, -4.766e-01, -1.447e-02,  2.695e-01, -2.559e-01,\n",
       "       -5.493e-02,  2.412e-01, -1.621e-01,  1.514e-01,  9.717e-02,\n",
       "       -2.930e-01, -6.445e-02,  2.676e-01,  7.764e-02, -5.430e-01,\n",
       "        1.040e-01,  1.973e-01,  5.493e-02,  6.226e-02,  1.040e-01,\n",
       "       -3.496e-01, -1.953e-01,  1.406e-01, -5.798e-03, -1.270e-01,\n",
       "        4.175e-02, -3.438e-01, -3.262e-01,  6.226e-02, -6.016e-01,\n",
       "        2.217e-01, -2.871e-01, -2.715e-01, -1.504e-01, -3.691e-01,\n",
       "        1.426e-01,  2.324e-01,  3.760e-02,  2.930e-01, -3.848e-01,\n",
       "       -3.809e-02, -1.240e-01, -2.559e-01, -8.118e-03, -5.859e-02,\n",
       "       -1.147e-01,  2.520e-01, -4.053e-02, -2.520e-01,  2.031e-01,\n",
       "       -1.025e-01,  1.670e-01,  8.008e-02,  1.338e-01,  3.691e-01,\n",
       "       -3.633e-01, -4.468e-02, -9.082e-02,  2.148e-01,  3.906e-01,\n",
       "       -2.363e-01, -3.320e-01,  2.139e-01,  1.187e-01,  3.247e-02,\n",
       "       -7.959e-02, -6.592e-02, -1.147e-01, -2.451e-01, -3.340e-01,\n",
       "       -3.379e-01,  2.217e-01, -1.719e-01,  1.016e-01, -4.902e-01,\n",
       "        1.201e-01, -2.715e-01, -1.543e-01, -5.347e-02,  6.689e-02,\n",
       "       -2.676e-01,  1.689e-01, -4.028e-02, -8.789e-02,  1.260e-01,\n",
       "       -3.438e-01,  1.934e-01,  3.770e-01,  1.455e-01, -2.275e-01,\n",
       "       -1.689e-01,  1.855e-01, -1.309e-01, -2.041e-01, -1.631e-01,\n",
       "        3.711e-02,  2.461e-01, -1.836e-01, -2.559e-01,  3.398e-01,\n",
       "       -3.882e-02,  3.882e-02,  1.299e-01, -1.865e-01,  9.717e-02,\n",
       "        1.963e-01,  3.955e-02, -5.117e-01,  1.182e-01,  9.814e-02,\n",
       "        3.203e-01,  1.030e-01, -1.733e-02,  2.695e-01,  1.797e-01,\n",
       "        1.011e-01,  4.062e-01, -4.102e-02,  7.129e-02,  1.089e-01,\n",
       "        1.276e-02,  1.099e-02, -1.436e-01,  2.598e-01,  1.074e-01,\n",
       "        2.520e-01,  1.406e-01, -3.281e-01,  1.572e-01,  1.875e-01,\n",
       "       -1.426e-01,  1.992e-01,  1.289e-01,  6.226e-02, -2.930e-01,\n",
       "        1.147e-01,  1.392e-02, -8.350e-02, -3.008e-01,  2.676e-01,\n",
       "        8.740e-02, -1.387e-01,  3.672e-01, -1.636e-02,  2.520e-01,\n",
       "       -3.262e-01, -7.324e-02,  6.494e-02, -4.238e-01,  3.672e-01,\n",
       "        3.540e-03, -1.929e-02,  6.006e-02, -2.820e-02, -9.717e-02,\n",
       "        4.492e-02, -1.514e-01,  2.236e-01, -2.539e-01, -1.270e-01,\n",
       "       -1.436e-01, -5.054e-02, -4.077e-02, -3.711e-02,  1.602e-01,\n",
       "       -2.539e-01, -2.637e-01, -1.680e-01, -3.301e-01,  2.490e-01,\n",
       "       -4.062e-01, -5.640e-02,  2.207e-01,  2.637e-01,  3.564e-02,\n",
       "       -6.348e-02,  6.165e-03,  3.906e-01, -3.105e-01, -2.324e-01,\n",
       "        2.061e-01,  1.895e-01, -1.719e-01,  1.459e-02, -6.738e-02,\n",
       "        4.761e-02, -9.131e-02,  4.443e-02,  1.631e-01, -2.490e-01,\n",
       "        2.461e-01,  8.154e-02,  7.568e-02, -5.078e-02, -4.258e-01,\n",
       "       -2.812e-01,  1.680e-01, -3.613e-02, -8.008e-02, -1.641e-01,\n",
       "        6.934e-02,  3.203e-01, -4.126e-02,  1.672e-02,  1.904e-01,\n",
       "        3.379e-01, -3.066e-01, -5.273e-01,  1.602e-01, -2.656e-01,\n",
       "       -3.711e-01,  9.570e-02,  6.079e-02,  2.500e-01,  1.318e-01,\n",
       "        1.865e-01, -2.363e-01, -1.523e-01, -4.199e-01,  1.064e-01,\n",
       "       -3.467e-02,  1.147e-02,  6.299e-02,  1.895e-01, -2.061e-01,\n",
       "       -1.611e-01, -4.468e-02,  3.467e-02,  1.074e-01,  4.336e-01,\n",
       "       -2.119e-01,  6.885e-02, -2.871e-01, -1.562e-01, -3.203e-01,\n",
       "        7.617e-02,  2.197e-02,  1.699e-01, -1.631e-01, -3.735e-02,\n",
       "        6.689e-02, -6.885e-02,  1.250e-01,  2.695e-01, -1.699e-01,\n",
       "       -2.031e-01, -2.344e-01,  3.320e-02, -6.299e-02,  2.061e-01,\n",
       "       -3.320e-01,  5.859e-02,  3.164e-01, -2.539e-02,  1.738e-01,\n",
       "        9.094e-03, -9.961e-02,  2.158e-01, -3.174e-02,  8.545e-02,\n",
       "       -1.191e-01, -3.574e-01,  3.340e-01, -8.740e-02, -7.520e-02,\n",
       "        7.373e-02, -8.984e-02, -1.206e-01, -2.051e-01, -5.127e-02,\n",
       "        2.910e-01,  2.773e-01,  1.445e-01,  4.238e-01, -2.413e-04],\n",
       "      dtype=float32)"
      ]
     },
     "execution_count": 20,
     "metadata": {},
     "output_type": "execute_result"
    }
   ],
   "source": [
    "# We can access individual word vectors using a dictionary-like syntax\n",
    "model['Metis']"
   ]
  },
  {
   "cell_type": "code",
   "execution_count": 21,
   "metadata": {},
   "outputs": [
    {
     "data": {
      "text/plain": [
       "[('meetings', 0.7572832107543945),\n",
       " ('meeeting', 0.6875465512275696),\n",
       " ('Meeting', 0.6848756074905396),\n",
       " ('meeing', 0.6018308401107788),\n",
       " ('Meetings', 0.5899162888526917),\n",
       " ('worksession', 0.5894558429718018),\n",
       " ('roundtable', 0.5851958990097046),\n",
       " ('briefing', 0.5807525515556335)]"
      ]
     },
     "execution_count": 21,
     "metadata": {},
     "output_type": "execute_result"
    }
   ],
   "source": [
    "# Some cool results!\n",
    "\n",
    "model.most_similar('meeting' ,topn=8)"
   ]
  },
  {
   "cell_type": "code",
   "execution_count": 22,
   "metadata": {},
   "outputs": [
    {
     "data": {
      "text/plain": [
       "[('President', 0.8006276488304138),\n",
       " ('chairman', 0.6708745360374451),\n",
       " ('vice_president', 0.6700224876403809),\n",
       " ('chief_executive', 0.6691275238990784),\n",
       " ('CEO', 0.6590125560760498)]"
      ]
     },
     "execution_count": 22,
     "metadata": {},
     "output_type": "execute_result"
    }
   ],
   "source": [
    "model.most_similar('president' ,topn=5)"
   ]
  },
  {
   "cell_type": "code",
   "execution_count": 23,
   "metadata": {},
   "outputs": [
    {
     "data": {
      "text/plain": [
       "[('queen', 0.7118192911148071),\n",
       " ('monarch', 0.6189674139022827),\n",
       " ('princess', 0.5902431011199951),\n",
       " ('crown_prince', 0.5499460697174072),\n",
       " ('prince', 0.5377321243286133),\n",
       " ('kings', 0.5236844420433044),\n",
       " ('Queen_Consort', 0.5235945582389832),\n",
       " ('queens', 0.518113374710083),\n",
       " ('sultan', 0.5098593235015869),\n",
       " ('monarchy', 0.5087411999702454)]"
      ]
     },
     "execution_count": 23,
     "metadata": {},
     "output_type": "execute_result"
    }
   ],
   "source": [
    "# Here's an analogy task!\n",
    "\n",
    "model.most_similar(positive=['woman', 'king'], negative=['man'])"
   ]
  },
  {
   "cell_type": "code",
   "execution_count": 24,
   "metadata": {},
   "outputs": [
    {
     "data": {
      "text/plain": [
       "[('France', 0.667637825012207),\n",
       " ('Les_Bleus', 0.5665801167488098),\n",
       " ('Stade_De', 0.5045602917671204),\n",
       " ('Marseille', 0.502022922039032),\n",
       " ('Marc_Lièvremont', 0.500834584236145),\n",
       " ('les_bleus', 0.49737778306007385),\n",
       " ('Les_Tricolores', 0.49725979566574097),\n",
       " ('Fabien_Galthié', 0.49014753103256226),\n",
       " ('French', 0.4892624020576477),\n",
       " ('les_Bleus', 0.4850963056087494)]"
      ]
     },
     "execution_count": 24,
     "metadata": {},
     "output_type": "execute_result"
    }
   ],
   "source": [
    "model.most_similar(positive=['Paris', 'England'], negative=['London'])"
   ]
  },
  {
   "cell_type": "markdown",
   "metadata": {},
   "source": [
    "Using GloVe with Gensim requires a little extra leg work, but it's not too bad.\n",
    "The problem is that the file format that is publicly available doesn't play nice with Gensim.\n",
    "Luckily, Gensim provides a handy method of converting it!"
   ]
  },
  {
   "cell_type": "code",
   "execution_count": 25,
   "metadata": {},
   "outputs": [],
   "source": [
    "#glove_file = glove_dir  = '/Users/joshuamailman/Downloads/glove.6B/glove.6B.100d.txt'\n",
    "glove_file = glove_dir  = '../glove.6B/glove.6B.100d.txt'\n",
    "\n",
    "\n"
   ]
  },
  {
   "cell_type": "code",
   "execution_count": 27,
   "metadata": {},
   "outputs": [],
   "source": [
    "w2v_output_file = '../glove.6B/glove.6B.100d.txt.w2v'\n"
   ]
  },
  {
   "cell_type": "code",
   "execution_count": 28,
   "metadata": {},
   "outputs": [
    {
     "data": {
      "text/plain": [
       "(400000, 100)"
      ]
     },
     "execution_count": 28,
     "metadata": {},
     "output_type": "execute_result"
    }
   ],
   "source": [
    "# The following utility converts file formats\n",
    "gensim.scripts.glove2word2vec.glove2word2vec(glove_file, w2v_output_file)"
   ]
  },
  {
   "cell_type": "code",
   "execution_count": 29,
   "metadata": {},
   "outputs": [],
   "source": [
    "# Now we can load it!\n",
    "model = gensim.models.KeyedVectors.load_word2vec_format(w2v_output_file, binary=False)"
   ]
  },
  {
   "cell_type": "code",
   "execution_count": 30,
   "metadata": {},
   "outputs": [
    {
     "data": {
      "text/plain": [
       "[('conference', 0.8648155927658081),\n",
       " ('meetings', 0.8619149923324585),\n",
       " ('summit', 0.8164560794830322),\n",
       " ('talks', 0.814795970916748),\n",
       " ('discuss', 0.795186460018158),\n",
       " ('ministers', 0.7842442989349365),\n",
       " ('met', 0.7822972536087036),\n",
       " ('leaders', 0.7725203037261963)]"
      ]
     },
     "execution_count": 30,
     "metadata": {},
     "output_type": "execute_result"
    }
   ],
   "source": [
    "# How does it compare to the previous examples we did with word2vec?\n",
    "model.most_similar('meeting' ,topn=8)"
   ]
  },
  {
   "cell_type": "code",
   "execution_count": 31,
   "metadata": {},
   "outputs": [
    {
     "data": {
      "text/plain": [
       "[('vice', 0.828760027885437),\n",
       " ('presidency', 0.7150214910507202),\n",
       " ('former', 0.706093966960907),\n",
       " ('presidents', 0.6961984038352966),\n",
       " ('chairman', 0.6928698420524597)]"
      ]
     },
     "execution_count": 31,
     "metadata": {},
     "output_type": "execute_result"
    }
   ],
   "source": [
    "model.most_similar('president' ,topn=5)"
   ]
  },
  {
   "cell_type": "code",
   "execution_count": 32,
   "metadata": {},
   "outputs": [
    {
     "data": {
      "text/plain": [
       "[('queen', 0.7698541283607483),\n",
       " ('monarch', 0.6843380928039551),\n",
       " ('throne', 0.6755735874176025),\n",
       " ('daughter', 0.6594556570053101),\n",
       " ('princess', 0.6520534753799438),\n",
       " ('prince', 0.6517034769058228),\n",
       " ('elizabeth', 0.6464517712593079),\n",
       " ('mother', 0.6311717629432678),\n",
       " ('emperor', 0.6106470823287964),\n",
       " ('wife', 0.6098655462265015)]"
      ]
     },
     "execution_count": 32,
     "metadata": {},
     "output_type": "execute_result"
    }
   ],
   "source": [
    "model.most_similar(positive=['woman', 'king'], negative=['man'])"
   ]
  },
  {
   "cell_type": "markdown",
   "metadata": {},
   "source": [
    "# Your Turn!\n",
    "\n",
    "- Using either word2vec or GloVe, what interesting analogies or relationships?\n",
    "\n",
    "- Given a short piece of text (like a tweet) what strategies can you think of to create a \"tweet vector\"?"
   ]
  },
  {
   "cell_type": "code",
   "execution_count": null,
   "metadata": {},
   "outputs": [],
   "source": []
  }
 ],
 "metadata": {
  "kernelspec": {
   "display_name": "Python [conda env:metis] *",
   "language": "python",
   "name": "conda-env-metis-py"
  },
  "language_info": {
   "codemirror_mode": {
    "name": "ipython",
    "version": 3
   },
   "file_extension": ".py",
   "mimetype": "text/x-python",
   "name": "python",
   "nbconvert_exporter": "python",
   "pygments_lexer": "ipython3",
   "version": "3.8.6"
  }
 },
 "nbformat": 4,
 "nbformat_minor": 2
}
