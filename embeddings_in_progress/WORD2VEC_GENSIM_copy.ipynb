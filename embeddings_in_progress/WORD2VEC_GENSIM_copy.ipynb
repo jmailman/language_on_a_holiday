{
 "cells": [
  {
   "cell_type": "markdown",
   "execution_count": null,
   "metadata": {},
   "outputs": [],
   "source": [
    "# WORD2VEC\n",
    "\n",
    "## Working with Word2Vec with Gensim\n"
   ]
  },
  {
   "cell_type": "markdown",
   "execution_count": null,
   "metadata": {},
   "outputs": [],
   "source": [
    "### Objectives\n",
    "- Visualize word vectorization\n",
    "- Prepare gensim environment\n",
    "- Fit word2vec models\n",
    "- Interpret latent variables/vectors\n",
    "- Find similar words and word pairs\n",
    "- Use externally-trained matrices of latent features"
   ]
  },
  {
   "cell_type": "markdown",
   "execution_count": null,
   "metadata": {},
   "outputs": [],
   "source": [
    "We have been working with a number of techniques and tools that help us navigate the world of NLP. For example, we have CountVectorizer:"
   ]
  },
  {
   "cell_type": "code",
   "execution_count": null,
   "metadata": {},
   "outputs": [],
   "source": [
    "%matplotlib inline\n",
    "import pandas as pd\n",
    "from sklearn.feature_extraction.text import CountVectorizer\n",
    "import seaborn as sns  \n",
    "import numpy as np\n",
    "import matplotlib.pyplot as plt\n",
    "\n",
    "text = ['That is should come to this!', 'This above all: to thine own self be true.', 'Something is rotten in the state of Denmark.']\n",
    "vectorizer = CountVectorizer(ngram_range=(1,2))\n",
    "\n",
    "vectorizer.fit(text)\n",
    "x = vectorizer.transform(text)\n",
    "x_back = x.toarray()\n",
    "\n",
    "pd.DataFrame(x_back, columns=vectorizer.get_feature_names())"
   ]
  },
  {
   "cell_type": "markdown",
   "execution_count": null,
   "metadata": {},
   "outputs": [],
   "source": [
    ">An Adverse Traits abou the Bag of Words model: Word Context & semantic meaning does not play a role.\n",
    "\n",
    "\n",
    ">But then came Word2Vec!\n",
    "\n",
    ">We will see that with Word2Vec, context does play a role and it can decipher relationships between words."
   ]
  },
  {
   "cell_type": "code",
   "execution_count": null,
   "metadata": {},
   "outputs": [],
   "source": [
    "words = ['king','queen', 'man', 'woman']  \n",
    "\n",
    "vectors = np.array([[0.6,   0.8], \n",
    "                    [0.8, 0.6],\n",
    "                   [.2,.4],[.4,.2]]\n",
    "                 ) \n",
    "\n",
    "plt.plot(vectors[:,0], vectors[:,1], 'o')  \n",
    "plt.xlim(0, 1.5)  \n",
    "plt.ylim(0, 1.5)  \n",
    "for word, x, y in zip(words, vectors[:,0], vectors[:,1]):  \n",
    "    plt.annotate(word, (x, y), size=12)"
   ]
  },
  {
   "cell_type": "markdown",
   "execution_count": null,
   "metadata": {},
   "outputs": [],
   "source": [
    "More examples:\n",
    "![](https://www.tensorflow.org/images/linear-relationships.png)"
   ]
  },
  {
   "cell_type": "markdown",
   "execution_count": null,
   "metadata": {},
   "outputs": [],
   "source": [
    "## First things first :\n",
    "\n",
    "**1) Install Gensim: **\n",
    "\n",
    "pip install gensim\n",
    "\n",
    "**  2)  Make sure cython is installed ? **\n",
    "\n",
    "cython -V\n",
    "\n",
    "(if no cython):\n",
    "\n",
    "pip install cython\n",
    "\n",
    "\n",
    "** 3) test (Run the sample code in following cell) **\n"
   ]
  },
  {
   "cell_type": "code",
   "execution_count": null,
   "metadata": {},
   "outputs": [],
   "source": [
    "import gensim\n",
    "documents = [\"Will this work?  I'm not sure.  If not go to step #4 (above)\"]\n",
    "texts = [[word for word in document.lower().split()]\n",
    "         for document in documents]\n",
    "\n",
    "\n",
    "print (texts)\n",
    "model = gensim.models.Word2Vec(texts, size=100, window=5, min_count=1, workers=4,sg=1)"
   ]
  },
  {
   "cell_type": "markdown",
   "execution_count": null,
   "metadata": {},
   "outputs": [],
   "source": [
    "\n",
    "**4) If you see the following error : \"UserWarning: C extension not loaded for Word2Vec\"**\n",
    "\n",
    "\n",
    "Do the following:\n",
    "\n",
    "1.  pip uninstall gensim\n",
    "2.  pip uninstall scipy \n",
    "\n",
    "3. pip install --no-cache-dir scipy==0.15.1\n",
    "4. pip install --no-cache-dir gensim==0.12.1\n",
    "\n",
    "\n",
    "**Refer to the following:** https://groups.google.com/forum/#!topic/gensim/isBqIhrw9mk"
   ]
  },
  {
   "cell_type": "code",
   "execution_count": null,
   "metadata": {},
   "outputs": [],
   "source": [
    "# A 'Gensim' example: \n",
    "\n",
    "documents = [\"Human machine interface for lab abc computer applications\",\n",
    "             \"A survey of user opinion of computer system response time\",\n",
    "             \"The EPS user interface management system\",\n",
    "             \"System and human system engineering testing of EPS\",\n",
    "              \"Relation of user perceived response time to error measurement\",\n",
    "              \"The generation of random binary unordered trees\",\n",
    "              \"The intersection graph of paths in trees\",\n",
    "              \"Graph minors IV Widths of trees and well quasi ordering\",\n",
    "              \"Graph minors A survey\"]"
   ]
  },
  {
   "cell_type": "markdown",
   "execution_count": null,
   "metadata": {},
   "outputs": [],
   "source": [
    "## Word2Vec Preprocessing\n",
    "\n",
    "1. Tokenization   \n",
    "2. Remove stop words    \n",
    "3. Convert to lowercase     \n",
    "4. Others: stemming.. "
   ]
  },
  {
   "cell_type": "code",
   "execution_count": null,
   "metadata": {},
   "outputs": [],
   "source": [
    "# The type of input that Word2Vec is looking for.. \n",
    "stoplist = set('for a of the and to in'.split())\n",
    "texts = [[word for word in document.lower().split() if word not in stoplist]\n",
    "         for document in documents]\n",
    "\n",
    "print (texts)"
   ]
  },
  {
   "cell_type": "markdown",
   "execution_count": null,
   "metadata": {},
   "outputs": [],
   "source": [
    "###  2: Word Representation\n",
    "\n",
    "Learn a continuous representation of words.\n",
    "Each word (w) is associated with it's own word vector"
   ]
  },
  {
   "cell_type": "code",
   "execution_count": null,
   "metadata": {},
   "outputs": [],
   "source": [
    "import gensim  # using skip-gram\n",
    "model = gensim.models.Word2Vec(texts, size=100, window=5, min_count=1, workers=2, sg=1)"
   ]
  },
  {
   "cell_type": "markdown",
   "execution_count": null,
   "metadata": {},
   "outputs": [],
   "source": [
    "[See Wiki on arguments](https://en.wikipedia.org/wiki/Word2vec)\n",
    "\n",
    "A Word2vec model can be trained with hierarchical softmax and/or negative sampling. To approximate the conditional log-likelihood a model seeks to maximize, the hierarchical softmax method uses a Huffman tree to reduce calculation. The negative sampling method, on the other hand, approaches the maximization problem by minimizing the log-likelihood of sampled negative instances. According to the authors, hierarchical softmax works better for infrequent words while negative sampling works better for frequent words and better with low dimensional vectors. As training epochs increase, hierarchical softmax stops being useful.\n",
    "\n",
    "The size of the context window determines how many words before and after a given word would be included as context words of the given word. The recommended value is 10 for skip-gram and 5 for CBOW."
   ]
  },
  {
   "cell_type": "code",
   "execution_count": null,
   "metadata": {},
   "outputs": [],
   "source": [
    "# take a look at vocab\n",
    "list(model.wv.vocab.items())[:7]"
   ]
  },
  {
   "cell_type": "code",
   "execution_count": null,
   "metadata": {},
   "outputs": [],
   "source": [
    "#  and voila, we have our word vector \n",
    "print (model['trees'])"
   ]
  },
  {
   "cell_type": "markdown",
   "execution_count": null,
   "metadata": {},
   "outputs": [],
   "source": [
    "###  What do we have? Word Embeddings \n",
    "\n",
    "**A word embedding W : words → ℝn **\n",
    "\n",
    "The output above is the result of 'word' projections in a latent space\n",
    "of N dimensions, (N ~ size of NN layer we chose).     \n",
    "Our float values above represent the coordinates for the word 'computer' in our 100-dimensional space!\n",
    "\n",
    "Our high dimensional vectors stand in place for words.    \n",
    "Note, that these dimensions are encoding 'latent' properties for 'computer' (such that 'queen' will be geometrically closer to 'king' than it would to be to (let's say) 'computer'. \n",
    "\n",
    "Word Embeddings are useful because:\n",
    "\n",
    "1.  We can measure the semantic similarity between two words\n",
    "2.  We can use these word vectors as features for various NLP supervised learning tasks (such as classification, sentiment analysis). "
   ]
  },
  {
   "cell_type": "markdown",
   "execution_count": null,
   "metadata": {},
   "outputs": [],
   "source": [
    "### 3:  Skip-Gram Methods &  CBOW Methods : \n",
    "\n",
    "#### Skip-Gram example sentence:\n",
    "\n",
    ">\"We are on the cusp of deep learning for the masses\"\n",
    "\n",
    "For Context Window = 2:\n",
    "\n",
    "*We could get the following training examples: (Where target word is __underlined__) *\n",
    "\n",
    "\n",
    "__We__ are on \n",
    "\n",
    "We __are__ on the\n",
    "\n",
    "We are __on__ the cusp\n",
    "\n",
    "\n",
    "#### What's happening underneath the hood?:\n",
    "We have input of skip-gram is a single word (Wi) **'learning'**, we will determine the probability of seeing the words (Wo) : 'of','deep', 'for','the'.\n",
    "\n",
    "1. Transform our vobabulary into a 'bag of indices'\n",
    "\n",
    "2. One-hot encode (input vectors) \n",
    "\n",
    "3. Randomly initialize the Weight Vectors\n",
    "\n",
    "4. Get dot product: (Input vector.InputWeightMatrix) ~ (this is just the weight vector for 'learning')\n",
    "\n",
    "5. Get dot product:  ('learning' weight vector).(Output Weight Matrix) \n",
    "\n",
    "6. Calculate Softmax probabilities:\n",
    "    - What is the probability of 'seeing' the word 'deep' given that we've seen the word 'learning'?  -- >  Using SGD together with softmax regression, we will maximize the probability for 'deep' \n",
    "    - P(Wo|Wi) = (exp(Wi.Wo)/ sum(exp(Wi.Woj)   (sum~ sum of all Woj for all j in Vocabulary)\n",
    "\n",
    "7. As always, we update our Weight matrix to reduce our errors:\n",
    "    - Wi=Wi-a*ej*Wo\n",
    "\n",
    "8. Repeat...\n",
    "\n",
    "\n",
    "<img src='img/skip_gram.png'/>"
   ]
  },
  {
   "cell_type": "markdown",
   "execution_count": null,
   "metadata": {},
   "outputs": [],
   "source": [
    "\n",
    "### CBOW: \n",
    "\n",
    "\n",
    "CBOW: very similiar model with the inputs & outputs reversed.  The input layer consists of our word window \n",
    "\n",
    "<img src='img/CBOW.png'/>\n",
    "\n"
   ]
  },
  {
   "cell_type": "markdown",
   "execution_count": null,
   "metadata": {},
   "outputs": [],
   "source": [
    "### Let's work with a corpus from NLTK"
   ]
  },
  {
   "cell_type": "code",
   "execution_count": null,
   "metadata": {},
   "outputs": [],
   "source": [
    "# WARNING: Use Scroll bar with NLTK download... or else?\n",
    "import nltk\n",
    "#nltk.download()"
   ]
  },
  {
   "cell_type": "code",
   "execution_count": null,
   "metadata": {},
   "outputs": [],
   "source": [
    "nltk.download(\"gutenberg\")"
   ]
  },
  {
   "cell_type": "code",
   "execution_count": null,
   "metadata": {},
   "outputs": [],
   "source": [
    "# Build corpus from \n",
    "import os\n",
    "from nltk.corpus import stopwords\n",
    "\n",
    "# stop = stopwords.words('english')\n",
    "stop = ['?','!','.',',',':',';']\n",
    "\n",
    "#creating our iterator\n",
    "\n",
    "\n",
    "# An Illustration.. \n",
    "\n",
    "import os\n",
    "\n",
    "class MySentences(object):\n",
    "    # a memory-friendly way to load a large corpora\n",
    "     def __init__(self, dirname):\n",
    "            self.dirname = dirname\n",
    " \n",
    "     def __iter__(self):\n",
    "        # iterate through all file names in our directory\n",
    "         for fname in os.listdir(self.dirname):\n",
    "                for line in open(os.path.join(self.dirname, fname), encoding=\"ISO-8859-1\"):\n",
    "                    word=line.lower().split()\n",
    "                    if word not in stop:\n",
    "                        yield word\n",
    "\n",
    "sentences = MySentences('/home/ubuntu/nltk_data/corpora/gutenberg') \n",
    "model = gensim.models.Word2Vec(sentences,size=100,min_count=3,workers=4)"
   ]
  },
  {
   "cell_type": "code",
   "execution_count": null,
   "metadata": {},
   "outputs": [],
   "source": [
    "model.most_similar('the' ,topn=8)"
   ]
  },
  {
   "cell_type": "code",
   "execution_count": null,
   "metadata": {},
   "outputs": [],
   "source": [
    "# Similarity\n",
    "\n",
    "model.similarity('man','flower')"
   ]
  },
  {
   "cell_type": "code",
   "execution_count": null,
   "metadata": {},
   "outputs": [],
   "source": [
    "# Compute cosine_similarity\n",
    "\n",
    "model.n_similarity(['dog', 'houses'], ['cat', 'cats'])"
   ]
  },
  {
   "cell_type": "code",
   "execution_count": null,
   "metadata": {},
   "outputs": [],
   "source": [
    "model.doesnt_match(\"rabbit cow raven turtle\".split())"
   ]
  },
  {
   "cell_type": "code",
   "execution_count": null,
   "metadata": {},
   "outputs": [],
   "source": [
    "model.wv.evaluate_word_pairs(os.path.join(module_path, 'test_data','wordsim353.tsv'))"
   ]
  },
  {
   "cell_type": "markdown",
   "execution_count": null,
   "metadata": {},
   "outputs": [],
   "source": [
    "\n",
    "### If you want to refine your model, you'll need more data:\n",
    "#### Let's work with Google's pre-trained [Word2Vect Model](https://drive.google.com/file/d/0B7XkCwpI5KDYNlNUTTlSS21pQmM/edit)"
   ]
  },
  {
   "cell_type": "code",
   "execution_count": null,
   "metadata": {},
   "outputs": [],
   "source": [
    "import os\n",
    "\n",
    "# Setup nltk corpora path and Google Word2Vec location\n",
    "google_vec_file = '/Users/jb/Downloads/GoogleNews-vectors-negative300.bin'"
   ]
  },
  {
   "cell_type": "code",
   "execution_count": null,
   "metadata": {},
   "outputs": [],
   "source": [
    "model = gensim.models.KeyedVectors.load_word2vec_format(google_vec_file, binary=True)"
   ]
  },
  {
   "cell_type": "code",
   "execution_count": null,
   "metadata": {},
   "outputs": [],
   "source": [
    "model.most_similar('king' ,topn=4)"
   ]
  },
  {
   "cell_type": "code",
   "execution_count": null,
   "metadata": {},
   "outputs": [],
   "source": [
    "model.most_similar('president' ,topn=4)"
   ]
  },
  {
   "cell_type": "code",
   "execution_count": null,
   "metadata": {},
   "outputs": [],
   "source": [
    "model.n_similarity(['king', 'man'], ['queen', 'woman'])"
   ]
  },
  {
   "cell_type": "markdown",
   "execution_count": null,
   "metadata": {},
   "outputs": [],
   "source": [
    "Other very cool methods!:      \n",
    "\n",
    "\n",
    "Doc2Vec extends the word2vec algorithm to larger blocks of texts (paragraphs, documents, articles):    \n",
    "- https://radimrehurek.com/gensim/models/doc2vec.html\n",
    "- http://learningaboutdata.blogspot.com/2014/06/plotting-word-embedding-using-tsne-with.html\n",
    "- https://districtdatalabs.silvrback.com/modern-methods-for-sentiment-analysis\n",
    "- https://radimrehurek.com/gensim/models/word2vec.html\n",
    "- https://www.tensorflow.org/tutorials/word2vec"
   ]
  },
  {
   "cell_type": "markdown",
   "execution_count": null,
   "metadata": {},
   "outputs": [],
   "source": [
    "###   Some things to keep in Mind when using Word2Vec:\n",
    "\n",
    "Word2vec requires a lot of data to train.\n",
    "\n",
    "As we've illustrated, you can download pretrained vectors. However, if you would need to train your own data \n",
    "you will need a lot of it!  (Think Millions of words) \n"
   ]
  }
 ],
 "metadata": {
  "kernelspec": {
   "display_name": "metis",
   "language": "python",
   "name": "metis"
  },
  "language_info": {
   "codemirror_mode": {
    "name": "ipython",
    "version": 3
   },
   "file_extension": ".py",
   "mimetype": "text/x-python",
   "name": "python",
   "nbconvert_exporter": "python",
   "pygments_lexer": "ipython3",
   "version": "3.6.5"
  }
 },
 "nbformat": 4,
 "nbformat_minor": 2
}
